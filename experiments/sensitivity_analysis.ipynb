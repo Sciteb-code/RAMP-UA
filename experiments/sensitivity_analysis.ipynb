{
 "cells": [
  {
   "cell_type": "markdown",
   "metadata": {},
   "source": [
    "# Sensitivity Analysis with the OpenCL RAMP model"
   ]
  },
  {
   "cell_type": "markdown",
   "metadata": {},
   "source": [
    "### Import opencl modules"
   ]
  },
  {
   "cell_type": "code",
   "execution_count": 1,
   "metadata": {},
   "outputs": [
    {
     "name": "stdout",
     "output_type": "stream",
     "text": [
      "{\n",
      "  \"shell_port\": 54429,\n",
      "  \"iopub_port\": 54430,\n",
      "  \"stdin_port\": 54431,\n",
      "  \"control_port\": 54433,\n",
      "  \"hb_port\": 54432,\n",
      "  \"ip\": \"127.0.0.1\",\n",
      "  \"key\": \"2db3cc02-c4b8ee5e057a815e31f422d4\",\n",
      "  \"transport\": \"tcp\",\n",
      "  \"signature_scheme\": \"hmac-sha256\",\n",
      "  \"kernel_name\": \"\"\n",
      "}\n",
      "\n",
      "Paste the above JSON into a file, and connect with:\n",
      "    $> jupyter <app> --existing <file>\n",
      "or, if you are local, you can connect with just:\n",
      "    $> jupyter <app> --existing kernel-450dd224-8832-426e-9c1a-a9358cea6e17.json\n",
      "or even just:\n",
      "    $> jupyter <app> --existing\n",
      "if this is the most recent Jupyter kernel you have started.\n"
     ]
    }
   ],
   "source": [
    "import multiprocessing as mp\n",
    "#import multiprocess as mp  # A fork of multiprocessing that uses dill rather than pickle\n",
    "import yaml # pyyaml library for reading the parameters.yml file\n",
    "import os\n",
    "\n",
    "from microsim.opencl.ramp.run import run_headless\n",
    "from microsim.opencl.ramp.snapshot_convertor import SnapshotConvertor\n",
    "from microsim.opencl.ramp.snapshot import Snapshot\n",
    "from microsim.opencl.ramp.params import Params, IndividualHazardMultipliers, LocationHazardMultipliers\n",
    "from microsim.opencl.ramp.simulator import Simulator\n",
    "\n",
    "import functions # Some additional notebook-specific functions required (functions.py)\n",
    "\n",
    "# Useful for connecting to this kernel\n",
    "%connect_info"
   ]
  },
  {
   "cell_type": "markdown",
   "metadata": {},
   "source": [
    "### Setup params for all runs"
   ]
  },
  {
   "cell_type": "markdown",
   "metadata": {},
   "source": [
    "Read the parameters file"
   ]
  },
  {
   "cell_type": "code",
   "execution_count": 2,
   "metadata": {},
   "outputs": [],
   "source": [
    "PARAMETERS_FILENAME = \"default.yml\"\n",
    "with open(os.path.join(\"..\",\"model_parameters\", PARAMETERS_FILENAME)) as f:\n",
    "    parameters = yaml.load(f, Loader=yaml.SafeLoader)\n",
    "    \n",
    "sim_params = parameters[\"microsim\"]  # Parameters for the dynamic microsim (python)\n",
    "calibration_params = parameters[\"microsim_calibration\"]\n",
    "disease_params = parameters[\"disease\"]  # Parameters for the disease model (r)"
   ]
  },
  {
   "cell_type": "markdown",
   "metadata": {},
   "source": [
    "Prepare the parameters for the OpenCL model. (See [main.py](https://github.com/Urban-Analytics/RAMP-UA/blob/052861cc51be5bc1827c85bb827209f0df73c685/microsim/main.py#L262) for an example of how this is done in the code). "
   ]
  },
  {
   "cell_type": "code",
   "execution_count": 3,
   "metadata": {},
   "outputs": [],
   "source": [
    "current_risk_beta = disease_params['current_risk_beta']\n",
    "\n",
    "# The OpenCL model incorporates the current risk beta by pre-multiplying the hazard multipliers with it\n",
    "location_hazard_multipliers = LocationHazardMultipliers(\n",
    "    retail=calibration_params[\"hazard_location_multipliers\"][\"Retail\"] * current_risk_beta,\n",
    "    primary_school=calibration_params[\"hazard_location_multipliers\"][\"PrimarySchool\"] * current_risk_beta,\n",
    "    secondary_school=calibration_params[\"hazard_location_multipliers\"][\"SecondarySchool\"] * current_risk_beta,\n",
    "    home=calibration_params[\"hazard_location_multipliers\"][\"Home\"] * current_risk_beta,\n",
    "    work=calibration_params[\"hazard_location_multipliers\"][\"Work\"] * current_risk_beta,\n",
    ")\n",
    "\n",
    "# Individual hazard multipliers can be passed straight through\n",
    "individual_hazard_multipliers = IndividualHazardMultipliers(\n",
    "    presymptomatic=calibration_params[\"hazard_individual_multipliers\"][\"presymptomatic\"],\n",
    "    asymptomatic=calibration_params[\"hazard_individual_multipliers\"][\"asymptomatic\"],\n",
    "    symptomatic=calibration_params[\"hazard_individual_multipliers\"][\"symptomatic\"]\n",
    ")\n",
    "\n",
    "proportion_asymptomatic = disease_params[\"asymp_rate\"]\n",
    "\n",
    "params = Params(\n",
    "    location_hazard_multipliers=location_hazard_multipliers,\n",
    "    individual_hazard_multipliers=individual_hazard_multipliers,\n",
    "    proportion_asymptomatic=proportion_asymptomatic\n",
    ")"
   ]
  },
  {
   "cell_type": "markdown",
   "metadata": {},
   "source": [
    "### Get snapshot path\n",
    "**NB** this is the path to the OpenCL snapshot file generated by running `microsim/main.py`. To run with new population data just re-run `main.py --opencl` without the `--use-cache` option, so that it regenerates a new snapshot file and writes it to this location."
   ]
  },
  {
   "cell_type": "code",
   "execution_count": 4,
   "metadata": {},
   "outputs": [],
   "source": [
    "opencl_dir = \"../microsim/opencl\"\n",
    "snapshot_filepath = os.path.join(opencl_dir, \"snapshots\", \"cache.npz\")"
   ]
  },
  {
   "cell_type": "markdown",
   "metadata": {},
   "source": [
    "### Run OpenCL simulation for multiple repetitions"
   ]
  },
  {
   "cell_type": "code",
   "execution_count": 6,
   "metadata": {},
   "outputs": [
    {
     "name": "stdout",
     "output_type": "stream",
     "text": [
      "Running simulation 1.\n"
     ]
    },
    {
     "name": "stderr",
     "output_type": "stream",
     "text": [
      "Running simulation: 100%|██████████| 120/120 [00:10<00:00, 11.11it/s]\n"
     ]
    },
    {
     "name": "stdout",
     "output_type": "stream",
     "text": [
      "Running simulation 2.\n"
     ]
    },
    {
     "name": "stderr",
     "output_type": "stream",
     "text": [
      "Running simulation: 100%|██████████| 120/120 [00:10<00:00, 11.25it/s]\n"
     ]
    },
    {
     "name": "stdout",
     "output_type": "stream",
     "text": [
      "Running simulation 3.\n"
     ]
    },
    {
     "name": "stderr",
     "output_type": "stream",
     "text": [
      "Running simulation: 100%|██████████| 120/120 [00:10<00:00, 11.19it/s]\n"
     ]
    },
    {
     "name": "stdout",
     "output_type": "stream",
     "text": [
      "Running simulation 4.\n"
     ]
    },
    {
     "name": "stderr",
     "output_type": "stream",
     "text": [
      "Running simulation: 100%|██████████| 120/120 [00:11<00:00, 10.56it/s]\n"
     ]
    },
    {
     "name": "stdout",
     "output_type": "stream",
     "text": [
      "Running simulation 5.\n"
     ]
    },
    {
     "name": "stderr",
     "output_type": "stream",
     "text": [
      "Running simulation: 100%|██████████| 120/120 [00:10<00:00, 11.24it/s]\n"
     ]
    },
    {
     "name": "stdout",
     "output_type": "stream",
     "text": [
      "Running simulation 6.\n"
     ]
    },
    {
     "name": "stderr",
     "output_type": "stream",
     "text": [
      "Running simulation: 100%|██████████| 120/120 [00:10<00:00, 11.19it/s]\n"
     ]
    },
    {
     "name": "stdout",
     "output_type": "stream",
     "text": [
      "Running simulation 7.\n"
     ]
    },
    {
     "name": "stderr",
     "output_type": "stream",
     "text": [
      "Running simulation: 100%|██████████| 120/120 [00:10<00:00, 11.57it/s]\n"
     ]
    },
    {
     "name": "stdout",
     "output_type": "stream",
     "text": [
      "Running simulation 8.\n"
     ]
    },
    {
     "name": "stderr",
     "output_type": "stream",
     "text": [
      "Running simulation: 100%|██████████| 120/120 [00:10<00:00, 11.71it/s]\n"
     ]
    },
    {
     "name": "stdout",
     "output_type": "stream",
     "text": [
      "Running simulation 9.\n"
     ]
    },
    {
     "name": "stderr",
     "output_type": "stream",
     "text": [
      "Running simulation: 100%|██████████| 120/120 [00:10<00:00, 11.96it/s]\n"
     ]
    },
    {
     "name": "stdout",
     "output_type": "stream",
     "text": [
      "Running simulation 10.\n"
     ]
    },
    {
     "name": "stderr",
     "output_type": "stream",
     "text": [
      "Running simulation: 100%|██████████| 120/120 [00:10<00:00, 11.43it/s]\n"
     ]
    }
   ],
   "source": [
    "iterations = 120\n",
    "repetitions = 10\n",
    "num_seed_days = 10\n",
    "use_gpu=False\n",
    "\n",
    "summaries = []\n",
    "final_results = []\n",
    "# Prepare the function arguments as lists for starmap\n",
    "l_i = [i for i in range(repetitions)]\n",
    "l_iterations = [iterations] * repetitions\n",
    "l_snapshot_filepath = [snapshot_filepath] * repetitions\n",
    "l_params = [params] * repetitions\n",
    "l_opencl_dir = [opencl_dir] * repetitions\n",
    "l_num_seed_days = [num_seed_days] * repetitions\n",
    "l_use_gpu = [use_gpu] * repetitions\n",
    "\n",
    "#results = functions.run_opencl_model_multiprocess(\n",
    "#    l_i, l_iterations, l_snapshot_filepath, l_params, l_opencl_dir, l_num_seed_days, l_use_gpu)\n",
    "\n",
    "import itertools  # (only while I can't get multiprocessing to work)\n",
    "try:\n",
    "    with mp.Pool(processes=int(os.cpu_count())) as pool:\n",
    "        #results = pool.starmap(\n",
    "        results = itertools.starmap(\n",
    "            functions._run_opencl_model, zip(\n",
    "                l_i, l_iterations, l_snapshot_filepath, l_params, l_opencl_dir, l_num_seed_days, l_use_gpu\n",
    "        ))\n",
    "finally:  # Make sure they get closed (shouldn't be necessary)\n",
    "    pool.close()\n",
    "\n",
    "summaries = [x[0] for x in results]\n",
    "final_results = [x[1] for x in results]\n"
   ]
  },
  {
   "cell_type": "markdown",
   "metadata": {},
   "source": [
    "### Plot output summary data"
   ]
  },
  {
   "cell_type": "code",
   "execution_count": null,
   "metadata": {},
   "outputs": [],
   "source": [
    "import matplotlib.pyplot as plt\n",
    "from microsim.opencl.ramp.disease_statuses import DiseaseStatus\n",
    "\n",
    "fig, ax = plt.subplots(1, len(DiseaseStatus), sharey=True)\n",
    "\n",
    "x = range(iterations)\n",
    "\n",
    "for i, disease_status in enumerate(DiseaseStatus):\n",
    "    # Calculate the mean\n",
    "    y = \n",
    "    plt.errorbar(x)\n",
    "    plt.plot(x, summary.total_counts[disease_status.value], label=disease_status.name)\n",
    "\n",
    "\n",
    "def plot_summary_counts(summary, repetition_num):\n",
    "    x = range(iterations)\n",
    "    \n",
    "\n",
    "    \n",
    "    plt.title(f\"Results - repetition {repetition_num}\")\n",
    "    plt.legend() \n",
    "    plt.show()\n",
    "    "
   ]
  },
  {
   "cell_type": "code",
   "execution_count": null,
   "metadata": {},
   "outputs": [],
   "source": [
    "for i, summary in enumerate(summaries):\n",
    "    plot_summary_counts(summary, i)"
   ]
  },
  {
   "cell_type": "markdown",
   "metadata": {},
   "source": [
    "### Plot disease statuses by age"
   ]
  },
  {
   "cell_type": "code",
   "execution_count": null,
   "metadata": {},
   "outputs": [],
   "source": [
    "def plot_disease_status_by_age(summary, disease_status):\n",
    "    age_thresholds = summary.age_thresholds\n",
    "    age_counts = summary.age_counts[disease_status]\n",
    "    x = range(iterations)\n",
    "    \n",
    "    lower_age_bound = 0\n",
    "    for (i, age_threshold) in enumerate(age_thresholds):\n",
    "        plt.plot(x, age_counts[i], label=f\"{lower_age_bound} - {age_threshold}\")\n",
    "        lower_age_bound = age_threshold\n",
    "    \n",
    "    plt.title(f\"Num {disease_status} people by age group\")\n",
    "    plt.legend() \n",
    "    plt.show()\n",
    "    "
   ]
  },
  {
   "cell_type": "code",
   "execution_count": null,
   "metadata": {},
   "outputs": [],
   "source": [
    "plot_disease_status_by_age(summaries[0], \"susceptible\")\n",
    "plot_disease_status_by_age(summaries[0], \"exposed\")"
   ]
  },
  {
   "cell_type": "markdown",
   "metadata": {},
   "source": [
    "### Plot MSOA geodata"
   ]
  },
  {
   "cell_type": "markdown",
   "metadata": {},
   "source": [
    "#### Load MSOA shapes"
   ]
  },
  {
   "cell_type": "code",
   "execution_count": null,
   "metadata": {},
   "outputs": [],
   "source": [
    "from microsim.load_msoa_locations import load_osm_shapefile, load_msoa_shapes\n",
    "import pandas as pd\n",
    "\n",
    "data_dir = (\"../devon_data\")\n",
    "\n",
    "osm_buildings = load_osm_shapefile(data_dir)\n",
    "\n",
    "devon_msoa_shapes = load_msoa_shapes(data_dir, visualize=False)\n",
    "\n",
    "devon_msoa_shapes.plot()\n",
    "plt.show()"
   ]
  },
  {
   "cell_type": "code",
   "execution_count": null,
   "metadata": {},
   "outputs": [],
   "source": [
    "import pandas as pd\n",
    "\n",
    "def plot_msoa_choropleth(msoa_shapes, summary, disease_status, timestep):\n",
    "    # get dataframes for all statuses\n",
    "    msoa_data = summary.get_area_dataframes()\n",
    "    \n",
    "    msoa_data_for_status = msoa_data[disease_status]\n",
    "\n",
    "    # add \"Code\" column so dataframes can be merged\n",
    "    msoa_data_for_status[\"Code\"] = msoa_data_for_status.index\n",
    "    msoa_shapes = pd.merge(msoa_shapes, msoa_data_for_status, on=\"Code\")\n",
    "\n",
    "    msoa_shapes.plot(column=f\"Day{timestep}\", legend=True)\n",
    "    plt.show()"
   ]
  },
  {
   "cell_type": "markdown",
   "metadata": {},
   "source": [
    "### Plot disease status by MSOA for a given timestep and status"
   ]
  },
  {
   "cell_type": "code",
   "execution_count": null,
   "metadata": {},
   "outputs": [],
   "source": [
    "disease_status = \"exposed\"\n",
    "\n",
    "plot_msoa_choropleth(devon_msoa_shapes, summaries[0], disease_status, 99)"
   ]
  },
  {
   "cell_type": "code",
   "execution_count": null,
   "metadata": {},
   "outputs": [],
   "source": []
  }
 ],
 "metadata": {
  "kernelspec": {
   "display_name": "Python 3",
   "language": "python",
   "name": "python3"
  },
  "language_info": {
   "codemirror_mode": {
    "name": "ipython",
    "version": 3
   },
   "file_extension": ".py",
   "mimetype": "text/x-python",
   "name": "python",
   "nbconvert_exporter": "python",
   "pygments_lexer": "ipython3",
   "version": "3.7.8"
  }
 },
 "nbformat": 4,
 "nbformat_minor": 4
}
