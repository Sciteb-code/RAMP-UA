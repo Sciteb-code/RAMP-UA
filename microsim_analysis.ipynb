{
 "cells": [
  {
   "cell_type": "markdown",
   "metadata": {},
   "source": [
    "# Microsim Analysis"
   ]
  },
  {
   "cell_type": "markdown",
   "metadata": {},
   "source": [
    "Analysis and visualisation of the outputs from the [microsim_model.py](./microsim_model.py). This includes preprocessing the pickled data about individuals' disease states and the danger scores associated with venues across the time period of the simulation. If the model was run multiple times, data from all runs are first aggregated (using mean and standard deviation)."
   ]
  },
  {
   "cell_type": "markdown",
   "metadata": {},
   "source": [
    "## Running the script"
   ]
  },
  {
   "cell_type": "markdown",
   "metadata": {},
   "source": [
    "The current script (dashboard_v1.py) is standalone: it can be run after microsim_model.py has produced ouput or if the user has third party output. The script expects the output to be in basedir/data/output, with basedir being Python's current working directory (usually RAMP-UA). \n",
    "\n",
    "To run the script from the command line, navigate to basedir and run:"
   ]
  },
  {
   "cell_type": "markdown",
   "metadata": {},
   "source": [
    "```python dashboard_v1.py```"
   ]
  },
  {
   "cell_type": "markdown",
   "metadata": {},
   "source": [
    "This should automatically pop up an html page in your default browser displaying the interactive dashboard (created using bokeh). You can zoom, pan and reset using the toolbar next to (or on top of) each figure. You can get information by hovering over points and hide/unhide points and lines by clicking on their entry in the legend.\n",
    "\n",
    "The html page is also saved in your working directory (as dashboard_v1.html), so if it doesn't open automatically you can manually open it in a browser. You can also share the file with others; you do not need Python (or any other software other than a browser) in order to view and interact with the html dashboard."
   ]
  },
  {
   "cell_type": "markdown",
   "metadata": {},
   "source": [
    "## What the script does"
   ]
  },
  {
   "cell_type": "markdown",
   "metadata": {},
   "source": [
    "### Initialisation\n",
    "\n",
    "In addition to bokeh (https://docs.bokeh.org/en/latest/index.html#), the script needs the following libraries:"
   ]
  },
  {
   "cell_type": "code",
   "execution_count": null,
   "metadata": {},
   "outputs": [],
   "source": [
    "import os\n",
    "import pickle\n",
    "import pandas as pd\n",
    "import numpy as np\n",
    "import geopandas as gpd\n",
    "import imageio\n",
    "from shapely.geometry import Point\n",
    "import json"
   ]
  },
  {
   "cell_type": "markdown",
   "metadata": {},
   "source": [
    "### Reading data\n",
    "\n",
    "Each time the model is run it outputs data into a new sub-directory under (basedir)/data/output/ numbered incrementally. E.g.:\n",
    "\n",
    "- data/output/0\n",
    "- data/output/1\n",
    "- ...\n",
    "\n",
    "The script assumes the current working directory is (basedir) and builds the paths from there:"
   ]
  },
  {
   "cell_type": "code",
   "execution_count": null,
   "metadata": {},
   "outputs": [],
   "source": [
    "base_dir = os.getcwd()  # get current directory (usually RAMP-UA)\n",
    "data_dir = os.path.join(base_dir, \"data\") # go to data dir"
   ]
  },
  {
   "cell_type": "markdown",
   "metadata": {},
   "source": [
    "In each run folder (/0, /1 etc), it reads in the following data:\n",
    "- individuals.pickle (contains MSOA, condition for each individual and day)\n",
    "- (venue).pickle files (contains danger scores for each venue and day) e.g. Retail.pickle, PrimarySchool.pickle etc\n",
    "\n",
    "The script also reads in the following data (once):\n",
    "- school and retail data (contains ID, postcode/MSOA and lat/lon coordinates)\n",
    "- shp file of England MSOAs (for choropleth)"
   ]
  },
  {
   "cell_type": "markdown",
   "metadata": {},
   "source": [
    "### Preprocessing data\n",
    "\n",
    "The conditions and venues are defined in a dictionary for easy look up and looping across conditions/venues."
   ]
  },
  {
   "cell_type": "code",
   "execution_count": null,
   "metadata": {},
   "outputs": [],
   "source": [
    "conditions_dict = {\n",
    "  \"susceptible\": 0,\n",
    "  \"presymptomatic\": 1,\n",
    "  \"symptomatic\": 2,\n",
    "  \"recovered\": 3,\n",
    "  \"dead\": 4,\n",
    "}\n",
    "\n",
    "locations_dict = {\n",
    "  \"PrimarySchool\": \"PrimarySchool\",\n",
    "  \"SecondarySchool\": \"SecondarySchool\",\n",
    "  \"Retail\": \"Retail\",\n",
    "  \"Work\": \"Work\",\n",
    "  \"Home\": \"Home\",\n",
    "}"
   ]
  },
  {
   "cell_type": "markdown",
   "metadata": {},
   "source": [
    "Currently, the script accepts only 1 run (/0) - will adapt this to read in all runs (as 3D array) and create aggregate values (mean, standard deviation) for the number of people per condition and venue danger scores."
   ]
  },
  {
   "cell_type": "markdown",
   "metadata": {},
   "source": [
    "Variables (stored in dictionaries) created for plotting include\n",
    "- msoacounts_dict (2D - number of people with condition per MSOA and per day)\n",
    "- totalcounts_dict (1D - number of people with condition per day, summed across all MSOAs)\n",
    "- dangers_dict (2D - danger score per venue and per day)"
   ]
  },
  {
   "cell_type": "markdown",
   "metadata": {},
   "source": [
    "### Plotting with bokeh"
   ]
  },
  {
   "cell_type": "markdown",
   "metadata": {},
   "source": [
    "Bokeh uses the general structure below:"
   ]
  },
  {
   "cell_type": "code",
   "execution_count": null,
   "metadata": {},
   "outputs": [],
   "source": [
    "x = [1, 2, 3, 4, 5]\n",
    "y = [6, 7, 2, 4, 5]\n",
    "\n",
    "# create a column data source: a dictionary that points to the variables to plot, can be shared between plots\n",
    "source = ColumnDataSource(data=dict(x1=x, y1=y))\n",
    "\n",
    "# output to static HTML file\n",
    "output_file(\"outputname.html\")\n",
    "\n",
    "# create a new plot with a title and axis labels\n",
    "p1 = figure(title=\"title\", x_axis_label='x', y_axis_label='y')\n",
    "\n",
    "# add a renderer e.g. line, point..., refer to column data source keys (here x1 and y1)\n",
    "p1.line(x1, y1, source = source, legend_label=\"label\", line_width=2)\n",
    "\n",
    "# show the results\n",
    "show(p1)"
   ]
  },
  {
   "cell_type": "markdown",
   "metadata": {},
   "source": [
    "A toolbar is added by default (and can be customized e.g. to add hover) for each plot, allowing the user to zoom, pan, reset, save etc. \n",
    "\n",
    "The script produces 3 types of plots (at the moment):"
   ]
  },
  {
   "cell_type": "markdown",
   "metadata": {},
   "source": [
    "#### Line plot\n",
    "\n",
    "Different conditions or venue types are plotted as lines. One of the axes is a count (number of people or danger score), the other can be time (days) or location (msoa or venue).\n",
    "\n",
    "![title](lineplot.jpg)"
   ]
  },
  {
   "cell_type": "markdown",
   "metadata": {},
   "source": [
    "#### Heatmap\n",
    "\n",
    "Counts (number of people or danger score) are plotted as colours. The axes are time (days) and location (msoa or venue).\n",
    "\n",
    "![title](heatmap.jpg)"
   ]
  },
  {
   "cell_type": "markdown",
   "metadata": {},
   "source": [
    "#### Choropleth"
   ]
  },
  {
   "cell_type": "markdown",
   "metadata": {},
   "source": [
    "Map of MSOAs (possibly masked to restrict them to a relevant area) coloured in proportion to counts within each area aggregated across a certain time period (e.g. total number of people with given condition, average danger score of venues).\n",
    "\n",
    "![title](choropleth.jpg)"
   ]
  },
  {
   "cell_type": "markdown",
   "metadata": {},
   "source": []
  }
 ],
 "metadata": {
  "kernelspec": {
   "display_name": "Python 3",
   "language": "python",
   "name": "python3"
  },
  "language_info": {
   "codemirror_mode": {
    "name": "ipython",
    "version": 3
   },
   "file_extension": ".py",
   "mimetype": "text/x-python",
   "name": "python",
   "nbconvert_exporter": "python",
   "pygments_lexer": "ipython3",
   "version": "3.7.6"
  }
 },
 "nbformat": 4,
 "nbformat_minor": 4
}
