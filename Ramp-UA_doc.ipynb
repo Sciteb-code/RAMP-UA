{
 "cells": [
  {
   "cell_type": "markdown",
   "metadata": {},
   "source": [
    "# RAMP - Urban Analytics: Microsim User Guide"
   ]
  },
  {
   "cell_type": "markdown",
   "metadata": {},
   "source": [
    "## Introduction"
   ]
  },
  {
   "cell_type": "markdown",
   "metadata": {},
   "source": [
    "This microsimulation models how a pathogen spreads through a population, taking into account where people live and the places they visit (e.g. retail, work, school). In this version of the model, we simulate COVID-19/SARS-CoV-2 transmission in England, but the model could be repurposed for other infectious diseases and/or geographical areas. Potential uses for the model include simulating the effect of starting and stopping different interventions (e.g. school closures) and predicting the impact of asmptomatic transmission.\n",
    "\n",
    "This notebook is a work in progress focussing on currently implemented features. Please check back later for updated versions of the code and documentation."
   ]
  },
  {
   "cell_type": "markdown",
   "metadata": {},
   "source": [
    "## Overview of the model's components"
   ]
  },
  {
   "cell_type": "markdown",
   "metadata": {},
   "source": [
    "This section shows how the different components (classes, functions, input data etc) fit together to simulate how danger scores for individuals and locations change over time."
   ]
  },
  {
   "cell_type": "markdown",
   "metadata": {},
   "source": [
    "### Input data\n",
    "\n",
    "#### Individuals and households\n",
    "\n",
    "SPENSER (Synthetic Population Estimation and Scenario Projection Model) is used to create population estimates at the household level for England (https://lida.leeds.ac.uk/research-projects/spenser-synthetic-population-estimation-and-scenario-projection-model/\n",
    "). In other words, it generates a set of representative individuals (with a given age, sex and ethnicity) assigned to households. A household is one ore more individuals assumed to be living in the same 'home' (a physical space such as a house or flat).  \n",
    "\n",
    "#### Health status\n",
    "\n",
    "Individuals are given one of four possible health/disease states:\n",
    " - Susceptible (never had disease or no longer immune)\n",
    " - Exposed (individual has been infected but not (yet) infectious; incubation period)\n",
    " - Infectious (can infect others)\n",
    " - Recovered/Removed (individual has immunity or has died)\n",
    "\n",
    "#### Activities\n",
    "\n",
    "Individuals are assigned a job ('work', high level category for now), a primary or secondary school and/or shopping behaviour ('retail'). Each of these activities is assigned a duration (fraction of day the individual spends doing this) and one or more possible locations (e.g. individual has 1 office but may visit multiple shops). A 'flow' variable gives the probability of an individual going to each location (fractions which sum to 1 per activity).\n",
    "\n",
    "#### Travel mode and time \n",
    "\n",
    "to be added\n",
    "\n",
    "#### 'Danger' scores\n",
    "\n",
    "When 'infectious' individuals visit locations, they increase the 'danger' score for that location. This translates into an increased likelihood ('risk') that another 'susceptible' individual travelling to the same location will become 'exposed'. \n",
    "\n",
    "The danger score assigned to each location is calculated as\n",
    "\n",
    "$danger_l = \\sum_{i=1}^{nr-infectious} ( duration_{il} * flow_{il} * danger$_$multiplier )$\n",
    "\n",
    "The risk that individuals get from a location is calculatd as\n",
    "\n",
    "$risk_i = \\sum_{l=1}^{nr-locations} ( duration_{il} * flow_{il} * danger_l * risk$_$multiplier )$\n",
    "\n",
    "Danger_multiplier and risk_multiplier are user-defined weights (default set to 1)."
   ]
  },
  {
   "cell_type": "markdown",
   "metadata": {},
   "source": [
    "### Classes and functions\n",
    "\n",
    "When running the code, a <b>Microsim</b> object is created which holds information about the individuals in the population (demographics, health and their activities, including where they go and for how long). The component activity_location points to an <b>ActivityLocation</b> object which holds information about the locations (mainly an identifier, flows and danger score). The ActivityLocation object references to an other class, <b>ColumnNames</b>, to ensure consistent column names.\n",
    "\n",
    "After the initial Microsim object is created, it can then be updated through a series of steps (days). At each step, the danger scores assigned to all venues are updated based on how many infectious individuals have visited. Next, each individual gets an updated risk based on where they have been, and their disease status is updated accordingly."
   ]
  },
  {
   "cell_type": "markdown",
   "metadata": {},
   "source": [
    "#### Microsim functions\n",
    "![title](microsim_defs.jpg)"
   ]
  },
  {
   "cell_type": "markdown",
   "metadata": {},
   "source": [
    "#### ActivityLocation functions\n",
    "![title](actloc_defs.jpg)"
   ]
  },
  {
   "cell_type": "markdown",
   "metadata": {},
   "source": [
    "#### Resulting objects\n",
    "![title](Objs.jpg)"
   ]
  },
  {
   "cell_type": "code",
   "execution_count": null,
   "metadata": {},
   "outputs": [],
   "source": []
  },
  {
   "cell_type": "markdown",
   "metadata": {},
   "source": [
    "## Example with dummy data"
   ]
  },
  {
   "cell_type": "markdown",
   "metadata": {},
   "source": [
    "This section follow an example dummy population of ?17? individuals."
   ]
  },
  {
   "cell_type": "code",
   "execution_count": null,
   "metadata": {},
   "outputs": [],
   "source": []
  },
  {
   "cell_type": "markdown",
   "metadata": {},
   "source": [
    "## Assumptions"
   ]
  },
  {
   "cell_type": "markdown",
   "metadata": {},
   "source": [
    "This section discusses assumptions, simplifications etc"
   ]
  },
  {
   "cell_type": "code",
   "execution_count": null,
   "metadata": {},
   "outputs": [],
   "source": []
  }
 ],
 "metadata": {
  "kernelspec": {
   "display_name": "Python 3",
   "language": "python",
   "name": "python3"
  },
  "language_info": {
   "codemirror_mode": {
    "name": "ipython",
    "version": 3
   },
   "file_extension": ".py",
   "mimetype": "text/x-python",
   "name": "python",
   "nbconvert_exporter": "python",
   "pygments_lexer": "ipython3",
   "version": "3.7.6"
  }
 },
 "nbformat": 4,
 "nbformat_minor": 4
}
