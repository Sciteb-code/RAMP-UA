{
 "cells": [
  {
   "cell_type": "markdown",
   "metadata": {},
   "source": [
    "# uk-covid19 API and data"
   ]
  },
  {
   "cell_type": "markdown",
   "metadata": {},
   "source": [
    "## Available data"
   ]
  },
  {
   "cell_type": "markdown",
   "metadata": {},
   "source": [
    "https://coronavirus.data.gov.uk/ is the main data source government departments are currently pointing to for up to date COVID19 data. It has a dashboard, an API and also some information that only seems to be available through download (?).\n",
    "\n",
    "They offer several flavours of API, the Python one of which is described and used below. \n",
    "\n",
    "One other useful dataset requires download seperately(?): Cases by local area in England from https://coronavirus.data.gov.uk/downloads/msoa_data/MSOAs_latest.csv"
   ]
  },
  {
   "cell_type": "markdown",
   "metadata": {},
   "source": [
    "## Python API"
   ]
  },
  {
   "cell_type": "markdown",
   "metadata": {},
   "source": [
    "See https://coronavirus.data.gov.uk/developers-guide for more information on available data, syntax, allowed parameters etc. UK and England level have more available data/variables (including deaths and details on hospitalisations). LTLA (lower tier local authority) is the highest available spatial resolution but only includes the number of cases (newCasesBySpecimenDate). \n",
    "\n",
    "Below are the code snippets to retrieve national data and LTLA data respectivaly as a dataframe."
   ]
  },
  {
   "cell_type": "code",
   "execution_count": 11,
   "metadata": {},
   "outputs": [
    {
     "name": "stdout",
     "output_type": "stream",
     "text": [
      "Requirement already satisfied: uk_covid19 in c:\\users\\toshiba\\anaconda3\\lib\\site-packages (1.2.0)\n",
      "Requirement already satisfied: certifi==2020.6.20 in c:\\users\\toshiba\\anaconda3\\lib\\site-packages (from uk_covid19) (2020.6.20)\n",
      "Requirement already satisfied: requests==2.24.0 in c:\\users\\toshiba\\anaconda3\\lib\\site-packages (from uk_covid19) (2.24.0)\n",
      "Requirement already satisfied: idna<3,>=2.5 in c:\\users\\toshiba\\anaconda3\\lib\\site-packages (from requests==2.24.0->uk_covid19) (2.8)\n",
      "Requirement already satisfied: urllib3!=1.25.0,!=1.25.1,<1.26,>=1.21.1 in c:\\users\\toshiba\\anaconda3\\lib\\site-packages (from requests==2.24.0->uk_covid19) (1.25.8)\n",
      "Requirement already satisfied: chardet<4,>=3.0.2 in c:\\users\\toshiba\\anaconda3\\lib\\site-packages (from requests==2.24.0->uk_covid19) (3.0.4)\n",
      "Note: you may need to restart the kernel to use updated packages.\n",
      "           date areaName   areaCode  newCasesBySpecimenDate  \\\n",
      "0    2020-09-21  England  E92000001                     NaN   \n",
      "1    2020-09-20  England  E92000001                    32.0   \n",
      "2    2020-09-19  England  E92000001                  1268.0   \n",
      "3    2020-09-18  England  E92000001                  3013.0   \n",
      "4    2020-09-17  England  E92000001                  3455.0   \n",
      "..          ...      ...        ...                     ...   \n",
      "231  2020-02-03  England  E92000001                     0.0   \n",
      "232  2020-02-02  England  E92000001                     0.0   \n",
      "233  2020-02-01  England  E92000001                     0.0   \n",
      "234  2020-01-31  England  E92000001                     0.0   \n",
      "235  2020-01-30  England  E92000001                     2.0   \n",
      "\n",
      "     newDeaths28DaysByDeathDate  newAdmissions  covidOccupiedMVBeds  \\\n",
      "0                           NaN            NaN                154.0   \n",
      "1                           3.0            NaN                142.0   \n",
      "2                           8.0          204.0                123.0   \n",
      "3                          14.0          205.0                115.0   \n",
      "4                          16.0          199.0                108.0   \n",
      "..                          ...            ...                  ...   \n",
      "231                         NaN            NaN                  NaN   \n",
      "232                         NaN            NaN                  NaN   \n",
      "233                         NaN            NaN                  NaN   \n",
      "234                         NaN            NaN                  NaN   \n",
      "235                         NaN            NaN                  NaN   \n",
      "\n",
      "     hospitalCases  \n",
      "0           1261.0  \n",
      "1           1141.0  \n",
      "2           1048.0  \n",
      "3            988.0  \n",
      "4            953.0  \n",
      "..             ...  \n",
      "231            NaN  \n",
      "232            NaN  \n",
      "233            NaN  \n",
      "234            NaN  \n",
      "235            NaN  \n",
      "\n",
      "[236 rows x 8 columns]\n"
     ]
    }
   ],
   "source": [
    "%pip install uk_covid19\n",
    "from uk_covid19 import Cov19API\n",
    "\n",
    "england_data = [\n",
    "    'areaType=nation',\n",
    "    'areaName=England'\n",
    "]\n",
    "cases_and_deaths = {\n",
    "    \"date\": \"date\",\n",
    "    \"areaName\": \"areaName\",\n",
    "    \"areaCode\": \"areaCode\",\n",
    "    \"newCasesBySpecimenDate\": \"newCasesBySpecimenDate\",\n",
    "    \"newDeaths28DaysByDeathDate\": \"newDeaths28DaysByDeathDate\",\n",
    "    \"newAdmissions\": \"newAdmissions\",\n",
    "    \"covidOccupiedMVBeds\": \"covidOccupiedMVBeds\",\n",
    "    \"hospitalCases\": \"hospitalCases\"\n",
    "}\n",
    "api = Cov19API(filters=england_data, structure=cases_and_deaths)\n",
    "df_England = api.get_dataframe()\n",
    "print(df_England)"
   ]
  },
  {
   "cell_type": "code",
   "execution_count": 14,
   "metadata": {},
   "outputs": [
    {
     "name": "stdout",
     "output_type": "stream",
     "text": [
      "Requirement already satisfied: uk_covid19 in c:\\users\\toshiba\\anaconda3\\lib\\site-packages (1.2.0)\n",
      "Requirement already satisfied: certifi==2020.6.20 in c:\\users\\toshiba\\anaconda3\\lib\\site-packages (from uk_covid19) (2020.6.20)\n",
      "Requirement already satisfied: requests==2.24.0 in c:\\users\\toshiba\\anaconda3\\lib\\site-packages (from uk_covid19) (2.24.0)\n",
      "Requirement already satisfied: chardet<4,>=3.0.2 in c:\\users\\toshiba\\anaconda3\\lib\\site-packages (from requests==2.24.0->uk_covid19) (3.0.4)\n",
      "Requirement already satisfied: idna<3,>=2.5 in c:\\users\\toshiba\\anaconda3\\lib\\site-packages (from requests==2.24.0->uk_covid19) (2.8)\n",
      "Requirement already satisfied: urllib3!=1.25.0,!=1.25.1,<1.26,>=1.21.1 in c:\\users\\toshiba\\anaconda3\\lib\\site-packages (from requests==2.24.0->uk_covid19) (1.25.8)\n",
      "Note: you may need to restart the kernel to use updated packages.\n",
      "             date       areaName   areaCode  newCasesBySpecimenDate\n",
      "0      2020-09-21  Aberdeen City  S12000033                       4\n",
      "1      2020-09-20  Aberdeen City  S12000033                      13\n",
      "2      2020-09-19  Aberdeen City  S12000033                      12\n",
      "3      2020-09-18  Aberdeen City  S12000033                       6\n",
      "4      2020-09-17  Aberdeen City  S12000033                       7\n",
      "...           ...            ...        ...                     ...\n",
      "71007  2020-02-03           York  E06000014                       0\n",
      "71008  2020-02-02           York  E06000014                       0\n",
      "71009  2020-02-01           York  E06000014                       0\n",
      "71010  2020-01-31           York  E06000014                       0\n",
      "71011  2020-01-30           York  E06000014                       1\n",
      "\n",
      "[71012 rows x 4 columns]\n"
     ]
    }
   ],
   "source": [
    "%pip install uk_covid19\n",
    "from uk_covid19 import Cov19API\n",
    "\n",
    "LTLA = [\n",
    "    'areaType=ltla'\n",
    "]\n",
    "# structure parameter\n",
    "cases_and_deaths = {\n",
    "    \"date\": \"date\",\n",
    "    \"areaName\": \"areaName\",\n",
    "    \"areaCode\": \"areaCode\",\n",
    "    \"newCasesBySpecimenDate\": \"newCasesBySpecimenDate\"    \n",
    "}\n",
    "api = Cov19API(filters=LTLA, structure=cases_and_deaths)\n",
    "df_LTLA = api.get_dataframe()\n",
    "print(df_LTLA)"
   ]
  },
  {
   "cell_type": "markdown",
   "metadata": {},
   "source": [
    "Some other data can be downloaded as csv from https://coronavirus.data.gov.uk/, including LSOA and MSOA weekly counts (with values 0-2 suppressed)."
   ]
  },
  {
   "cell_type": "markdown",
   "metadata": {},
   "source": [
    "## MSOA counts per week"
   ]
  },
  {
   "cell_type": "markdown",
   "metadata": {},
   "source": [
    "Weekly number of cases for each MSOA is avaialble from https://coronavirus.data.gov.uk/downloads/msoa_data/MSOAs_latest.csv. This file also contains UTLA (utla19_cd), LTLA (lad19_cd?) and MSOA (msoa11_cd) columns which can be used as a lookup table between different area definitions. \n",
    "\n",
    "Two issues with this dataset:\n",
    "- We don't have actual dates, just variables called wk_05, wk_06 etc, presumable week 5 and forward. It's not clear which day a week starts and wether wk_05 is the fifth week of the calendar year (assuming week 1 starts Wednesday 1 January, week 5 starts Wednesday 29 January)\n",
    "- counts of 0-2 are reported as '-99', so there is no way to distinguish between covid free and low counts\n",
    "\n",
    "To import the latest version in Python use the code below (a direct pd.read_csv results in HTTP error)."
   ]
  },
  {
   "cell_type": "code",
   "execution_count": 2,
   "metadata": {},
   "outputs": [
    {
     "name": "stdout",
     "output_type": "stream",
     "text": [
      "       rgn19_cd    rgn19_nm  utla19_cd             utla19_nm   lad19_cd  \\\n",
      "0     E12000007      London  E09000001        City of London  E09000001   \n",
      "1     E12000007      London  E09000002  Barking and Dagenham  E09000002   \n",
      "2     E12000007      London  E09000002  Barking and Dagenham  E09000002   \n",
      "3     E12000007      London  E09000002  Barking and Dagenham  E09000002   \n",
      "4     E12000007      London  E09000002  Barking and Dagenham  E09000002   \n",
      "...         ...         ...        ...                   ...        ...   \n",
      "6787  E12000007      London  E09000011             Greenwich  E09000011   \n",
      "6788  E12000002  North West  E08000012             Liverpool  E08000012   \n",
      "6789  E12000002  North West  E08000012             Liverpool  E08000012   \n",
      "6790  E12000002  North West  E08000012             Liverpool  E08000012   \n",
      "6791        NaN         NaN        NaN                   NaN        NaN   \n",
      "\n",
      "                  lad19_nm  msoa11_cd                msoa11_hclnm  wk_05  \\\n",
      "0           City of London  E02000001              City of London    -99   \n",
      "1     Barking and Dagenham  E02000002                  Marks Gate    -99   \n",
      "2     Barking and Dagenham  E02000003         Chadwell Heath East    -99   \n",
      "3     Barking and Dagenham  E02000004                Eastbrookend    -99   \n",
      "4     Barking and Dagenham  E02000005             Becontree Heath    -99   \n",
      "...                    ...        ...                         ...    ...   \n",
      "6787             Greenwich  E02006931       Greenwich Town & Park    -99   \n",
      "6788             Liverpool  E02006932         Central & Islington    -99   \n",
      "6789             Liverpool  E02006933  Albert Dock & Queen's Dock    -99   \n",
      "6790             Liverpool  E02006934                   Pier Head    -99   \n",
      "6791                   NaN  xxxxxxxxx                 unallocated    -99   \n",
      "\n",
      "      wk_06  ...  wk_30  wk_31  wk_32  wk_33  wk_34  wk_35  wk_36  wk_37  \\\n",
      "0       -99  ...    -99    -99    -99    -99      3    -99    -99    -99   \n",
      "1       -99  ...      3    -99    -99    -99    -99    -99    -99    -99   \n",
      "2       -99  ...      6    -99      4      4    -99    -99      4     10   \n",
      "3       -99  ...    -99    -99    -99    -99    -99    -99    -99    -99   \n",
      "4       -99  ...    -99    -99    -99    -99    -99    -99      5      3   \n",
      "...     ...  ...    ...    ...    ...    ...    ...    ...    ...    ...   \n",
      "6787    -99  ...    -99    -99    -99    -99    -99    -99      3    -99   \n",
      "6788    -99  ...    -99    -99    -99    -99      9      4     14     14   \n",
      "6789    -99  ...    -99    -99    -99    -99    -99      5      7      8   \n",
      "6790    -99  ...    -99    -99    -99    -99    -99    -99      7      7   \n",
      "6791    -99  ...     86     47     67     76     95    168    153    320   \n",
      "\n",
      "      wk_38  latest_7_days  \n",
      "0       -99            -99  \n",
      "1         5              4  \n",
      "2         9             11  \n",
      "3         4              9  \n",
      "4         3              7  \n",
      "...     ...            ...  \n",
      "6787    -99              3  \n",
      "6788     29             43  \n",
      "6789     13             19  \n",
      "6790      8             13  \n",
      "6791    443            435  \n",
      "\n",
      "[6792 rows x 43 columns]\n"
     ]
    }
   ],
   "source": [
    "import pandas as pd\n",
    "import requests\n",
    "import io\n",
    "datastr = requests.get('https://coronavirus.data.gov.uk/downloads/msoa_data/MSOAs_latest.csv',allow_redirects=True).text\n",
    "data_file = io.StringIO(datastr)\n",
    "MSOA_data = pd.read_csv(data_file)\n",
    "\n",
    "print(MSOA_data)"
   ]
  },
  {
   "cell_type": "markdown",
   "metadata": {},
   "source": [
    "## Comparing to microsim output"
   ]
  },
  {
   "cell_type": "markdown",
   "metadata": {},
   "source": [
    "dashboard.py creates the variable msoacounts_dict, which can be used to compare to the 'real' data mentioned above. We would expect mainly symptomatic cases to get tested, and possibly more and more asymptomatic carriers as part of an expanding track and trace program. We would always expect the reported/tested number to be lower than the microsim predicted number (unless everyone gets tested all the time, cases will remain underreported). \n",
    "\n",
    "Two possible options include\n",
    "- Summing the msoacounts_dict across 7 days and compare to MSOA_data (weekly cases, MSOA level)\n",
    "- Summing he msoacounts_dict across MSOAs to create LTLA counts, and compare to LTLA counts (daily counts, LTLA level)\n",
    "\n",
    "In either case, you need to tell the script how the days in the micocrosim correspond to calendar dates and (for MSOA_data) weeks. \n",
    "\n",
    "You can do this by setting microsim_start_day to an actual calendar date. You can also change MSOA_data wk_05 to your best guess corresponding date."
   ]
  },
  {
   "cell_type": "code",
   "execution_count": 3,
   "metadata": {},
   "outputs": [],
   "source": [
    "import datetime\n",
    "microsim_start_day = datetime.datetime(2020, 3, 23) # example 23 March 2020 - start lockdown\n",
    "MSOA_data_start_wk_05 = datetime.datetime(2020, 1, 29)"
   ]
  },
  {
   "cell_type": "markdown",
   "metadata": {},
   "source": [
    "To compare LTLA data to microsim data, we need to convert the microsim data from MSOAs to LTLAs (1 LTLA is a sum of 1 or more MSOAs)."
   ]
  },
  {
   "cell_type": "code",
   "execution_count": null,
   "metadata": {},
   "outputs": [],
   "source": [
    "MSOAs = msoacounts_dict['symptomatic'].index.tolist()  # MSOAs in microsim\n",
    "# prepare microsim data\n",
    "import numpy as np\n",
    "MSOAs = msoacounts_dict['symptomatic'].index.tolist()\n",
    "Days = msoacounts_dict['symptomatic'].columns.tolist()\n",
    "MSOA2LTLA_lut = MSOA_data[['msoa11_cd', 'lad19_cd']].copy()\n",
    "# keep only the relevant MSOAs\n",
    "MSOA2LTLA_lut = MSOA2LTLA_lut[MSOA2LTLA_lut['msoa11_cd'].isin(MSOAs)]\n",
    "# corresponding list of LTLAs\n",
    "LTLAs = MSOA2LTLA_lut.lad19_cd.unique()\n",
    "# empty dataframe  \n",
    "output1 = pd.DataFrame(index =LTLAs, columns = Days, data = np.zeros((len(LTLAs),len(Days))))\n",
    "# loop around MSOAs to assign values to correct LTLA\n",
    "for m in MSOAs:\n",
    "    l = MSOA2LTLA_lut[MSOA2LTLA_lut[\"msoa11_cd\"].str.contains(m)].lad19_cd.iloc[0]\n",
    "    for d in Days:\n",
    "        output1.loc[l,d] = output1.loc[l,d] + msoacounts_dict['symptomatic'].loc[m,d] +  msoacounts_dict['asymptomatic'].loc[m,d]"
   ]
  }
 ],
 "metadata": {
  "kernelspec": {
   "display_name": "Python 3",
   "language": "python",
   "name": "python3"
  },
  "language_info": {
   "codemirror_mode": {
    "name": "ipython",
    "version": 3
   },
   "file_extension": ".py",
   "mimetype": "text/x-python",
   "name": "python",
   "nbconvert_exporter": "python",
   "pygments_lexer": "ipython3",
   "version": "3.7.6"
  }
 },
 "nbformat": 4,
 "nbformat_minor": 4
}
