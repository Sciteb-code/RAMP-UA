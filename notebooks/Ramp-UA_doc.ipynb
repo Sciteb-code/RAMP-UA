{
 "cells": [
  {
   "cell_type": "markdown",
   "metadata": {},
   "source": [
    "# RAMP - Urban Analytics: Microsim User Guide"
   ]
  },
  {
   "cell_type": "markdown",
   "metadata": {},
   "source": [
    "## Introduction"
   ]
  },
  {
   "cell_type": "markdown",
   "metadata": {},
   "source": [
    "This microsimulation models aims to simulate the spread of a pathogen through a population, taking into account where people live and the places they visit (e.g. retail, work, school). In this version of the model, we simulate COVID-19/SARS-CoV-2 transmission in England, but the model could be repurposed for other infectious diseases and/or geographical areas. Potential uses for the model include simulating the effect of starting and stopping different interventions (e.g. school closures) and predicting the impact of asmptomatic transmission.\n",
    "\n",
    "This notebook is a work in progress, as is the model itself. Please check back later for updated versions of the code and documentation."
   ]
  },
  {
   "cell_type": "markdown",
   "metadata": {},
   "source": [
    "## Overview of the model's components"
   ]
  },
  {
   "cell_type": "markdown",
   "metadata": {},
   "source": [
    "This section shows how the different components (classes, functions, input data etc) fit together to simulate how danger scores for individuals and locations change over time."
   ]
  },
  {
   "cell_type": "markdown",
   "metadata": {},
   "source": [
    "### Input data\n",
    "\n",
    "#### Individuals and households\n",
    "\n",
    "SPENSER (Synthetic Population Estimation and Scenario Projection Model) is used to create population estimates at the household level for England (https://lida.leeds.ac.uk/research-projects/spenser-synthetic-population-estimation-and-scenario-projection-model/\n",
    "). In other words, it generates a set of representative individuals (with a given age, sex and ethnicity) assigned to households. A household is one ore more individuals assumed to be living in the same 'home' (a physical space such as a house or flat).  \n",
    "\n",
    "#### Health status\n",
    "\n",
    "Individuals are given one of four possible health/disease states:\n",
    " - 0: Susceptible -- never had disease or no longer immune.\n",
    " - 1: Exposed (pre-symptomatic) -- individual has been infected and can infect others, but not (yet) showing symptoms.\n",
    " - 2: Exposed (symptomatic) -- individual has been infected, can infect others, and is showing symptoms.\n",
    " - 3: Recovered -- individual has immunity.\n",
    " - 4: Died -- indivdual has died.\n",
    "\n",
    "#### Activities\n",
    "\n",
    "Individuals are assigned a job ('work', high level category for now), a primary or secondary school and/or shopping behaviour ('retail'). Other activities will be added in future iterations as required. Each of these activities is assigned a duration (fraction of day the individual spends doing this) and one or more possible locations (e.g. individual has 1 office but may visit multiple shops). A 'flow' variable gives the probability of an individual going to each location (fractions which sum to 1 per activity). E.g. if there are three local shops that an individual is most likely to visit, each will have a 'probability' of ~0.33.\n",
    "\n",
    "#### Travel mode and time \n",
    "\n",
    "To be added. We will include the risks associated with travelling by different modes.\n",
    "\n",
    "#### 'Danger' scores\n",
    "\n",
    "When 'infectious' individuals visit locations, they increase the 'danger' score for that location. This translates into an increased likelihood ('risk') that another 'susceptible' individual travelling to the same location will become 'exposed'. \n",
    "\n",
    "The danger score assigned to each location is calculated as\n",
    "\n",
    "$danger_l = \\sum_{i=1}^{nr-infectious} ( duration_{il} * flow_{il} * danger$_$multiplier )$\n",
    "\n",
    "The risk that individuals get from a location is calculatd as\n",
    "\n",
    "$risk_i = \\sum_{l=1}^{nr-locations} ( duration_{il} * flow_{il} * danger_l * risk$_$multiplier )$\n",
    "\n",
    "Danger_multiplier and risk_multiplier are user-defined weights (default set to 1). With these default weights, then if an infected individual spends all of their time in one location, they will give that location a 'danger' of 1.0. If another individual spends all of their time in that location, they will receive a 'risk' of 1.0."
   ]
  },
  {
   "cell_type": "markdown",
   "metadata": {},
   "source": [
    "### Classes and functions\n",
    "\n",
    "When running the code, a [**`Microsim`**](./microsim/microsim_model.py) object is created which holds information about the individuals in the population (demographics, health and their activities, including where they go and for how long). The component `activity_location` points to a number of different [**`ActivityLocation`**](./microsim/activity_location.py) objects. These hold information about the locations of different activities (mainly an identifier, flows and danger score).\n",
    "\n",
    "After the initial `Microsim` object is created, it can then be updated through a series of steps (days). At each step, the danger scores assigned to all venues are updated based on how many infectious individuals have visited. Next, each individual gets an updated risk based on where they have been, and their disease status is updated accordingly."
   ]
  },
  {
   "cell_type": "markdown",
   "metadata": {},
   "source": [
    "#### Microsim functions\n",
    "![title](microsim_defs.jpg)"
   ]
  },
  {
   "cell_type": "markdown",
   "metadata": {},
   "source": [
    "#### ActivityLocation functions\n",
    "![title](actloc_defs.jpg)"
   ]
  },
  {
   "cell_type": "markdown",
   "metadata": {},
   "source": [
    "#### Resulting objects\n",
    "![title](Objs.jpg)"
   ]
  },
  {
   "cell_type": "markdown",
   "metadata": {},
   "source": [
    "## Example with dummy data"
   ]
  },
  {
   "cell_type": "markdown",
   "metadata": {},
   "source": [
    "**INCLUDE A NOTE ABOUT HOW TO INSTALL THE LIBRARIES ETC. Probably just point to the [README](./READEME.md).**\n",
    "\n",
    "This section follows an example dummy population of 17 individuals. To start the model using the defaults, run microsim_model.py from the root directory:\n",
    "\n",
    "```\n",
    "python microsim/microsim_model.py \n",
    "```"
   ]
  },
  {
   "cell_type": "markdown",
   "metadata": {},
   "source": [
    "The Command Line Interface Creation Kit (Click) is used to start the script, possibly with additional parameters iterations (number of steps/days) and data_dir (directory where data is stored, usually root/data. To see the arguments that are avialable, run with the `--help` flag: `python microsim/microsim_model.py --help`\n",
    "\n",
    "```\n",
    "python microsim/microsim_model.py --help\n",
    "Usage: microsim_model.py [OPTIONS]\n",
    "\n",
    "Options:\n",
    "  --iterations INTEGER      Number of model iterations. 0 means just run the\n",
    "                            initialisation\n",
    "\n",
    "  --data_dir TEXT           Root directory to load data from\n",
    "  --do_visualisations TEXT  Whether to generate plots and associated data\n",
    "                            (default True)\n",
    "\n",
    "  --debug TEXT              Whether to run some more expensive checks (default\n",
    "                            False)\n",
    "\n",
    "  --help                    Show this message and exit.\n",
    "```"
   ]
  },
  {
   "cell_type": "markdown",
   "metadata": {},
   "source": [
    "This calls the **run** function and passes on the optional argumants iterations and data_dir. This will create a **Microsim** object (in this case restricting MSOAs to Devon only) and run **step** to advance the model for as many iterations as requested. "
   ]
  },
  {
   "cell_type": "code",
   "execution_count": null,
   "metadata": {},
   "outputs": [],
   "source": [
    "def run(iterations, data_dir):\n",
    "    num_iter = iterations\n",
    "    # Restrict MSOAs to Devon only - read in list\n",
    "    devon_msoas = pd.read_csv(os.path.join(data_dir, \"devon_msoas.csv\"), header=None, names=[\"x\", \"y\", \"Num\", \"Code\", \"Desc\"])\n",
    "    m = Microsim(study_msoas=list(devon_msoas.Code), data_dir=data_dir) # Create Microsim object\n",
    "    # Step the model\n",
    "    for i in range(num_iter):\n",
    "        m.step() # Run 1 more iteration"
   ]
  },
  {
   "cell_type": "markdown",
   "metadata": {},
   "source": [
    "This function also saves some data to pickle files in an *output* directory in the *data* directory: the initial microsim object (*m0.pickle*), an *Individuals.pickle* file with disease states across time and files for each venue with danger scores across time (e.g. *Work.pickle*, *Retail.pickle* etc). These are useful for further analysis and plotting."
   ]
  },
  {
   "cell_type": "markdown",
   "metadata": {},
   "source": [
    "Most classes and functions should be well documented. For more information, see the help documentation. E.g.:\n",
    "\n",
    "```\n",
    "m = Microsim()\n",
    "help(m)\n",
    "```"
   ]
  },
  {
   "cell_type": "markdown",
   "metadata": {},
   "source": [
    "The first step when creating the `Microsim` object (see the `__init__()` function) is to read in data about the population as created by SPENSER (see earlier) via **read_msm_data**. These data are collections of csv files located in data/msm_data, which is turned into dataframes *individuals* and *households* (linked via HID, the household identifier).\n",
    "\n",
    "A list of unique and sorted MSOAs *all_msoas* is extracted from this data using **extract_msoas_from_indiviuals** (from *individuals.Area*).\n",
    "\n",
    "Next, **check_study_area** will remove individuals and households outside the predefined study area if required. If *study_msoas* has been specified by the user, it will remove all rows in the *individuals* and *households* dataframes where the *Area* column is not a member of the *study_msoas* list. If *study_msoas*  is empty (not defined), the *individuals* and *households* dataframes are kept as they are and the parameter *study_msoas* is set to *all_msoas*."
   ]
  },
  {
   "cell_type": "code",
   "execution_count": null,
   "metadata": {},
   "outputs": [],
   "source": [
    "        self.individuals, self.households = Microsim.read_msm_data()\n",
    "    \n",
    "        self.all_msoas = Microsim.extract_msoas_from_indiviuals(self.individuals)\n",
    "        \n",
    "        self.study_msoas, self.individuals, self.households = \\\n",
    "            Microsim.check_study_area(self.all_msoas, study_msoas, self.individuals, self.households)"
   ]
  },
  {
   "cell_type": "markdown",
   "metadata": {},
   "source": [
    "For each type of 'activity' (retail, work, primary and secondary school and home), an **ActivityLocation** object will be created (code in *activity_location.py*). These ActivityLocation objects are stored in a dictionary, which makes it possible to run through all activities and calculate risks and dangers using the same code."
   ]
  },
  {
   "cell_type": "code",
   "execution_count": null,
   "metadata": {},
   "outputs": [],
   "source": [
    "        self.activity_locations: Dict[str, ActivityLocation] = {} # initialise empty dictionary"
   ]
  },
  {
   "cell_type": "markdown",
   "metadata": {},
   "source": [
    "For each 'activity' (e.g shopping), we need to store the following things:\n",
    "\n",
    "- *locations* dataframe containing all the places where the activity can take place (e.g. a list of shops), possibly with further details (such as shop name, geographical coordinates etc). Importantly, this dataframe will have a *Danger* column which records its danger score (based on how many  infectious people have visited the location recently).\n",
    "\n",
    "- Three columns in the *Individuals* dataframe e.g. *Retail_Venues*, *Retail_Flows* and *Retail_Duration*\n",
    " -  *\\_Venues* which location(s) each individual is likely to do that activity. This can be a single value (e.g. home) or a list (e.g. retail, where one individual may visit multiple shops) of indexes to the *locations* dataframe. E.g. one individual might have as shop venues [2,54,19]. Those numbers refer to the row numbers of locations in the retail locations dataframe. So venue '2' is the third venue in the list of all the locations associated with retail.\n",
    " -  *\\_Flows*: how likely the individual is to do to the activity at each of the venues. If venues is a list then flows are also a list (in the same order). E.g. for the individual mentioned above this might be flows=[0.8,0.1,0.1] which means they are most likely to go to venue with index 2, and less likely to go to the other two.\n",
    " -  *\\_Duration*: proportion of time people spend doing this activity (sums to 1 for all activities)\n",
    " \n",
    "The duration data for all activities comes from input data in data/\\*tu_health/\\*Complete.txt which is read in using `attach_time_use_and_health_data`. In addition to time use (columns *pwork*, *pschool* etc), this file also contains information about individuals' occupation (used to create the *workplaces* variable, see below) and health. All this data is added to the individuals dataframe. \n",
    "\n",
    "Next the same function also creates the necessary information for the activity of staying at home. For this activity, the individual will be assigned a virtual house based on their household ID (so they can possibly infect others in the same household while at home) and a flow of 1 (assume they only have 1 virtual house). The function appends *Home_Venues* (the household ID) and *Home_Flows* (set to 1) columns to the *individuals* dataframe. It also adds a *Danger* column to the *households* dataframe (the locations dataframe for the home activity) to start tracking each house's danger score. \n",
    "\n",
    "For going to work, the individual is assigned a virtual office based on their job title (*workplaces* variable, which is the *location* dataframe for the work activity) and a flow of 1 (assume they only have 1 virtual office and job) through the `add_work_flows()` function. In other words, all accountants work in the same virtual office, all police officers in the same virtual police station etc. \n",
    "\n",
    "In case of Retail and Schools, the flow data are estimations based on a spatial interation model, read in via the `read_retail_flows_data()` or `read_school_flows_data()` function. Next, all individuals in each MSOA are assigned the appropriate flows via the `add_individual_flows()` function."
   ]
  },
  {
   "cell_type": "code",
   "execution_count": null,
   "metadata": {},
   "outputs": [],
   "source": [
    "        # Home\n",
    "        home_name = \"Home\"\n",
    "        self.individuals, self.households = Microsim.attach_time_use_and_health_data(self.individuals, home_name, self.study_msoas)\n",
    "        self.activity_locations[home_name] = ActivityLocation(name=home_name, locations=self.households,\n",
    "                                                              flows=None, individuals=self.individuals,\n",
    "                                                              duration_col=\"phome\")\n",
    "\n",
    "        # Retail\n",
    "        retail_name = \"Retail\"\n",
    "        stores, stores_flows = Microsim.read_retail_flows_data(self.study_msoas)\n",
    "        self.individuals = Microsim.add_individual_flows(retail_name, self.individuals, stores_flows)\n",
    "        self.activity_locations[retail_name] = \\\n",
    "            ActivityLocation(retail_name, stores, stores_flows, self.individuals, \"pshop\")\n",
    "\n",
    "        # Schools (primary and secondary)\n",
    "        primary_name = \"PrimarySchool\"\n",
    "        secondary_name = \"SecondarySchool\"\n",
    "        schools, primary_flows, secondary_flows = \\\n",
    "            Microsim.read_school_flows_data(self.study_msoas)\n",
    "        self.individuals = Microsim.add_individual_flows(primary_name, self.individuals, primary_flows)\n",
    "        self.activity_locations[primary_name] = \\\n",
    "            ActivityLocation(primary_name, schools.copy(), primary_flows, self.individuals, \"pschool\")\n",
    "        self.individuals = Microsim.add_individual_flows(secondary_name, self.individuals, secondary_flows)\n",
    "        self.activity_locations[secondary_name] = \\\n",
    "            ActivityLocation(secondary_name, schools.copy(), secondary_flows, self.individuals, \"pschool\")\n",
    "\n",
    "        # Work\n",
    "        work_name = \"Work\"\n",
    "        possible_jobs = sorted(self.individuals.soc2010b.unique())  # list of possible jobs in alphabetical order\n",
    "        workplaces = pd.DataFrame({'ID': range(0, 0+len(possible_jobs))})  # df with all possible 'virtual offices'\n",
    "        Microsim._add_location_columns(workplaces, location_names=possible_jobs)\n",
    "        self.individuals = Microsim.add_work_flows(work_name, self.individuals, workplaces)\n",
    "        self.activity_locations[work_name] = ActivityLocation(name=work_name, locations=workplaces, flows=None,\n",
    "                                                              individuals=self.individuals, duration_col=\"pwork\")        "
   ]
  },
  {
   "cell_type": "markdown",
   "metadata": {},
   "source": [
    "Next, individuals are assigned an initial disease (SEIR) status"
   ]
  },
  {
   "cell_type": "code",
   "execution_count": null,
   "metadata": {},
   "outputs": [],
   "source": [
    "        self.individuals = Microsim.add_disease_columns(self.individuals)  # Add some necessary columns\n",
    "        self.individuals = Microsim.assign_initial_disease_status(self.individuals)"
   ]
  },
  {
   "cell_type": "markdown",
   "metadata": {},
   "source": [
    "Add step functionality and plotting"
   ]
  },
  {
   "cell_type": "markdown",
   "metadata": {},
   "source": [
    "## Assumptions"
   ]
  },
  {
   "cell_type": "markdown",
   "metadata": {},
   "source": [
    "This section discusses assumptions, simplifications etc"
   ]
  },
  {
   "cell_type": "code",
   "execution_count": null,
   "metadata": {},
   "outputs": [],
   "source": []
  }
 ],
 "metadata": {
  "kernelspec": {
   "display_name": "Python 3",
   "language": "python",
   "name": "python3"
  },
  "language_info": {
   "codemirror_mode": {
    "name": "ipython",
    "version": 3
   },
   "file_extension": ".py",
   "mimetype": "text/x-python",
   "name": "python",
   "nbconvert_exporter": "python",
   "pygments_lexer": "ipython3",
   "version": "3.7.7"
  }
 },
 "nbformat": 4,
 "nbformat_minor": 4
}
