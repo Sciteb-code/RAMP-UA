{
 "cells": [
  {
   "cell_type": "markdown",
   "metadata": {},
   "source": [
    "# Microsim Analysis\n",
    "\n",
    "Does some analysis of the outputs from the [microsim_model.py](./microsim_model.py)."
   ]
  },
  {
   "cell_type": "markdown",
   "metadata": {},
   "source": [
    "## Initialisation"
   ]
  },
  {
   "cell_type": "code",
   "execution_count": 4,
   "metadata": {},
   "outputs": [],
   "source": [
    "# Import libraries\n",
    "import pandas as pd\n",
    "import pickle\n",
    "from typing import List\n",
    "import os\n",
    "import glob\n",
    "import matplotlib.pyplot as plt\n",
    "from pathlib import Path\n",
    "from tqdm import tqdm  # For a progress bar\n",
    "\n",
    "#sys.path.append(\"microsim\")\n",
    "#from microsim.microsim_model import Microsim\n",
    "\n",
    "\n",
    "# Set directories \n",
    "base_dir = str(Path(os.getcwd()).parent)  # Get main RAMP-UA directory (should be parent to this file)\n",
    "data_dir = os.path.join(base_dir, \"data\") \n",
    "results_dir = os.path.join(data_dir, \"output\")\n",
    "\n",
    "if base_dir.split(\"/\")[-1] != \"RAMP-UA\":\n",
    "    raise Exception(f\"The base directory should point to the main 'RAMP-UA' directory,\"\n",
    "                    f\"but it points to {base_dir}\")"
   ]
  },
  {
   "cell_type": "markdown",
   "metadata": {},
   "source": [
    "## Read data\n",
    "\n",
    "Each time the model is run it outputs data into a new sub-directory under [../data/output/](../data/output) numbered incrementally. E.g.:\n",
    " - `data/output/0`\n",
    " - `data/output/1`\n",
    " - `...` \n",
    " \n",
    "The following variables specify which directories to read the data from"
   ]
  },
  {
   "cell_type": "code",
   "execution_count": 5,
   "metadata": {},
   "outputs": [],
   "source": [
    "START_DIRECTORY = 0\n",
    "END_DIRECTORY = 9"
   ]
  },
  {
   "cell_type": "markdown",
   "metadata": {},
   "source": [
    "Now read the data:"
   ]
  },
  {
   "cell_type": "code",
   "execution_count": 24,
   "metadata": {},
   "outputs": [],
   "source": [
    "def read_data(results_dir, start_directory=None, end_directory=None):\n",
    "    \"\"\"\n",
    "    Read all the available output files stored in subdirectories of `results_dir`. Results directories\n",
    "    should be numbered incrementally.\n",
    "    Optionally provide `start_directory` and `end_directory` to only select results directories within\n",
    "    those.\n",
    "    \n",
    "    :param results_dir: The directory to look in for results\n",
    "    :param start_directory: Optinal directory to start reading from\n",
    "    :param end_directory: Optinal directory to start reading to\n",
    "    :return: a dictionary with the results. Structured as follows:\n",
    "      dict:\n",
    "        -> 4  (the name of the model results subdirectory)\n",
    "          ->  Retail (dataframe showing locations for the activity)\n",
    "          ->  SecondarySchool\n",
    "          ->  Individuals\n",
    "          ->  PrimarySchool\n",
    "          ->  Work\n",
    "          ->  Home\n",
    "        -> 9 \n",
    "          -> ...\n",
    "    \"\"\"\n",
    "    # Get all the subdirectories in the results directory\n",
    "    all_dirs = [ d for d in glob.glob(os.path.join(results_dir,\"*\")) if os.path.isdir(d)]\n",
    "    # Now get those inbetween start and end (inclusive)\n",
    "    selected_dirs = []\n",
    "    if start_directory is None and end_directory is None:\n",
    "        selected_dirs = all_dirs\n",
    "    else:\n",
    "        for d in all_dirs:\n",
    "            if start_directory <= int(d.split('/')[-1]) <= end_directory:\n",
    "                selected_dirs.append(d)\n",
    "    print(\"Reading results from directories:\\n\", \"\\n\".join(selected_dirs), flush=True)\n",
    "                \n",
    "    # Read the results in each of those directories. Use a dict. Each item will be another dict that \n",
    "    # stores the results of one model run (i.e. one subdiectory).\n",
    "    results_dict = dict()\n",
    "    for d in tqdm(selected_dirs, desc=\"Reading directories\"):\n",
    "        model_name = d.split('/')[-1]  # Name of the model run (e.g. '2')\n",
    "        model_results = dict()  # results for this model run\n",
    "        for filename in glob.glob(os.path.join(d,\"*\")):\n",
    "            #print(filename)\n",
    "            if filename.split(\"/\")[-1] == \"m0.pickle\": # Special case: whole model object is stored\n",
    "                # Not actually reading the full model yet\n",
    "                pass\n",
    "            elif filename.endswith(\".pickle\"):  # In all other cases just dataframes are stored\n",
    "                with open(filename, 'rb') as f:\n",
    "                    df_name = filename.split(\"/\")[-1].replace(\".pickle\",\"\")  # Name of the file (e.g. 'Work')\n",
    "                    df = pickle.load(f)  # The dataframe stored in the file\n",
    "                    model_results[df_name] = df\n",
    "            else: # Other files (e.g. csv files) can be ignored\n",
    "                pass\n",
    "        \n",
    "        # Store this model in the main dictionary\n",
    "        results_dict[model_name] = model_results\n",
    "    \n",
    "    assert len(results_dict) == len(selected_dirs)\n",
    "    return results_dict     "
   ]
  },
  {
   "cell_type": "code",
   "execution_count": 26,
   "metadata": {},
   "outputs": [
    {
     "name": "stdout",
     "output_type": "stream",
     "text": [
      "Reading results from directories:\n",
      " /Users/nick/research_not_syncd/git_projects/RAMP-UA/data/output/9\n",
      "/Users/nick/research_not_syncd/git_projects/RAMP-UA/data/output/7\n",
      "/Users/nick/research_not_syncd/git_projects/RAMP-UA/data/output/6\n",
      "/Users/nick/research_not_syncd/git_projects/RAMP-UA/data/output/8\n",
      "/Users/nick/research_not_syncd/git_projects/RAMP-UA/data/output/4\n",
      "/Users/nick/research_not_syncd/git_projects/RAMP-UA/data/output/3\n",
      "/Users/nick/research_not_syncd/git_projects/RAMP-UA/data/output/5\n"
     ]
    },
    {
     "name": "stderr",
     "output_type": "stream",
     "text": [
      "Reading directories: 100%|██████████| 7/7 [00:08<00:00,  1.25s/it]\n"
     ]
    },
    {
     "name": "stdout",
     "output_type": "stream",
     "text": [
      "Read results from 7 models\n"
     ]
    }
   ],
   "source": [
    "res = read_data(results_dir, 3, 9)\n",
    "print(f\"Read results from {len(res)} models\")"
   ]
  },
  {
   "cell_type": "markdown",
   "metadata": {},
   "source": [
    "## Disease status\n",
    "\n",
    "A graph of disease statuses over time ..."
   ]
  },
  {
   "cell_type": "markdown",
   "metadata": {},
   "source": [
    "_Just working with one model at the moment, in future should work with many results_"
   ]
  },
  {
   "cell_type": "code",
   "execution_count": 29,
   "metadata": {},
   "outputs": [],
   "source": [
    "# Just get the first result\n",
    "m = res[next(iter(res.keys()))]\n",
    "\n",
    "individuals = m['Individuals'] # Dataframe of the individuals\n",
    "\n",
    "\n"
   ]
  },
  {
   "cell_type": "markdown",
   "metadata": {},
   "source": [
    "## Locations\n",
    "\n",
    "Some analysis/visualisation of the locations ... "
   ]
  },
  {
   "cell_type": "code",
   "execution_count": 52,
   "metadata": {},
   "outputs": [],
   "source": [
    "retail = m['Retail']\n",
    "homes = m['Home']"
   ]
  },
  {
   "cell_type": "markdown",
   "metadata": {},
   "source": [
    "Where an individual goes *shopping*:"
   ]
  },
  {
   "cell_type": "code",
   "execution_count": 76,
   "metadata": {},
   "outputs": [
    {
     "data": {
      "text/html": [
       "<div>\n",
       "<style scoped>\n",
       "    .dataframe tbody tr th:only-of-type {\n",
       "        vertical-align: middle;\n",
       "    }\n",
       "\n",
       "    .dataframe tbody tr th {\n",
       "        vertical-align: top;\n",
       "    }\n",
       "\n",
       "    .dataframe thead th {\n",
       "        text-align: right;\n",
       "    }\n",
       "</style>\n",
       "<table border=\"1\" class=\"dataframe\">\n",
       "  <thead>\n",
       "    <tr style=\"text-align: right;\">\n",
       "      <th></th>\n",
       "      <th>ID</th>\n",
       "      <th>Danger0</th>\n",
       "      <th>Danger001</th>\n",
       "    </tr>\n",
       "  </thead>\n",
       "  <tbody>\n",
       "    <tr>\n",
       "      <th>10</th>\n",
       "      <td>11</td>\n",
       "      <td>0</td>\n",
       "      <td>0</td>\n",
       "    </tr>\n",
       "    <tr>\n",
       "      <th>11</th>\n",
       "      <td>12</td>\n",
       "      <td>0</td>\n",
       "      <td>0</td>\n",
       "    </tr>\n",
       "    <tr>\n",
       "      <th>15</th>\n",
       "      <td>16</td>\n",
       "      <td>0</td>\n",
       "      <td>0</td>\n",
       "    </tr>\n",
       "    <tr>\n",
       "      <th>17</th>\n",
       "      <td>18</td>\n",
       "      <td>0</td>\n",
       "      <td>0</td>\n",
       "    </tr>\n",
       "    <tr>\n",
       "      <th>18</th>\n",
       "      <td>19</td>\n",
       "      <td>0</td>\n",
       "      <td>0</td>\n",
       "    </tr>\n",
       "    <tr>\n",
       "      <th>19</th>\n",
       "      <td>20</td>\n",
       "      <td>0</td>\n",
       "      <td>0</td>\n",
       "    </tr>\n",
       "    <tr>\n",
       "      <th>20</th>\n",
       "      <td>21</td>\n",
       "      <td>0</td>\n",
       "      <td>0</td>\n",
       "    </tr>\n",
       "    <tr>\n",
       "      <th>21</th>\n",
       "      <td>22</td>\n",
       "      <td>0</td>\n",
       "      <td>0</td>\n",
       "    </tr>\n",
       "    <tr>\n",
       "      <th>22</th>\n",
       "      <td>23</td>\n",
       "      <td>0</td>\n",
       "      <td>0</td>\n",
       "    </tr>\n",
       "    <tr>\n",
       "      <th>23</th>\n",
       "      <td>24</td>\n",
       "      <td>0</td>\n",
       "      <td>0</td>\n",
       "    </tr>\n",
       "  </tbody>\n",
       "</table>\n",
       "</div>"
      ],
      "text/plain": [
       "    ID  Danger0  Danger001\n",
       "10  11        0          0\n",
       "11  12        0          0\n",
       "15  16        0          0\n",
       "17  18        0          0\n",
       "18  19        0          0\n",
       "19  20        0          0\n",
       "20  21        0          0\n",
       "21  22        0          0\n",
       "22  23        0          0\n",
       "23  24        0          0"
      ]
     },
     "execution_count": 76,
     "metadata": {},
     "output_type": "execute_result"
    }
   ],
   "source": [
    "_id = 2\n",
    "individuals.loc[_id]\n",
    "\n",
    "shops_they_visit = retail.loc[retail.ID.isin(list(individuals.loc[_id, \"Retail_Venues\"]))]\n",
    "shops_they_visit"
   ]
  },
  {
   "cell_type": "markdown",
   "metadata": {},
   "source": [
    "Where an individual lives:"
   ]
  },
  {
   "cell_type": "code",
   "execution_count": 77,
   "metadata": {},
   "outputs": [
    {
     "data": {
      "text/html": [
       "<div>\n",
       "<style scoped>\n",
       "    .dataframe tbody tr th:only-of-type {\n",
       "        vertical-align: middle;\n",
       "    }\n",
       "\n",
       "    .dataframe tbody tr th {\n",
       "        vertical-align: top;\n",
       "    }\n",
       "\n",
       "    .dataframe thead th {\n",
       "        text-align: right;\n",
       "    }\n",
       "</style>\n",
       "<table border=\"1\" class=\"dataframe\">\n",
       "  <thead>\n",
       "    <tr style=\"text-align: right;\">\n",
       "      <th></th>\n",
       "      <th>ID</th>\n",
       "      <th>Danger0</th>\n",
       "      <th>Danger001</th>\n",
       "    </tr>\n",
       "  </thead>\n",
       "  <tbody>\n",
       "    <tr>\n",
       "      <th>1</th>\n",
       "      <td>1</td>\n",
       "      <td>0</td>\n",
       "      <td>0</td>\n",
       "    </tr>\n",
       "  </tbody>\n",
       "</table>\n",
       "</div>"
      ],
      "text/plain": [
       "   ID  Danger0  Danger001\n",
       "1   1        0          0"
      ]
     },
     "execution_count": 77,
     "metadata": {},
     "output_type": "execute_result"
    }
   ],
   "source": [
    "home = homes.loc[homes.ID.isin(list(individuals.loc[_id, \"Home_Venues\"]))]\n",
    "home"
   ]
  },
  {
   "cell_type": "markdown",
   "metadata": {},
   "source": [
    "Who else lives there"
   ]
  },
  {
   "cell_type": "code",
   "execution_count": 78,
   "metadata": {},
   "outputs": [
    {
     "data": {
      "text/html": [
       "<div>\n",
       "<style scoped>\n",
       "    .dataframe tbody tr th:only-of-type {\n",
       "        vertical-align: middle;\n",
       "    }\n",
       "\n",
       "    .dataframe tbody tr th {\n",
       "        vertical-align: top;\n",
       "    }\n",
       "\n",
       "    .dataframe thead th {\n",
       "        text-align: right;\n",
       "    }\n",
       "</style>\n",
       "<table border=\"1\" class=\"dataframe\">\n",
       "  <thead>\n",
       "    <tr style=\"text-align: right;\">\n",
       "      <th></th>\n",
       "      <th>ID</th>\n",
       "      <th>area</th>\n",
       "      <th>_hid</th>\n",
       "      <th>_pid</th>\n",
       "      <th>hhnssec</th>\n",
       "      <th>hpnssec5</th>\n",
       "      <th>soc4</th>\n",
       "      <th>sic</th>\n",
       "      <th>sex</th>\n",
       "      <th>hhref</th>\n",
       "      <th>...</th>\n",
       "      <th>Work_Flows</th>\n",
       "      <th>Work_Duration</th>\n",
       "      <th>disease_status</th>\n",
       "      <th>current_risk</th>\n",
       "      <th>MSOA_Cases</th>\n",
       "      <th>HID_Cases</th>\n",
       "      <th>presymp_days</th>\n",
       "      <th>symp_days</th>\n",
       "      <th>disease_status000</th>\n",
       "      <th>disease_status001</th>\n",
       "    </tr>\n",
       "  </thead>\n",
       "  <tbody>\n",
       "    <tr>\n",
       "      <th>2</th>\n",
       "      <td>2</td>\n",
       "      <td>E02004129</td>\n",
       "      <td>46</td>\n",
       "      <td>1408</td>\n",
       "      <td>5</td>\n",
       "      <td>Lower supervisory and technical occupations</td>\n",
       "      <td>92</td>\n",
       "      <td>13</td>\n",
       "      <td>1</td>\n",
       "      <td>1</td>\n",
       "      <td>...</td>\n",
       "      <td>[1.0]</td>\n",
       "      <td>0.000000</td>\n",
       "      <td>0</td>\n",
       "      <td>0</td>\n",
       "      <td>0</td>\n",
       "      <td>0</td>\n",
       "      <td>-1</td>\n",
       "      <td>-1</td>\n",
       "      <td>0</td>\n",
       "      <td>0.0</td>\n",
       "    </tr>\n",
       "    <tr>\n",
       "      <th>3</th>\n",
       "      <td>3</td>\n",
       "      <td>E02004129</td>\n",
       "      <td>46</td>\n",
       "      <td>4108</td>\n",
       "      <td>5</td>\n",
       "      <td>Lower supervisory and technical occupations</td>\n",
       "      <td>22</td>\n",
       "      <td>58</td>\n",
       "      <td>0</td>\n",
       "      <td>0</td>\n",
       "      <td>...</td>\n",
       "      <td>[1.0]</td>\n",
       "      <td>0.236111</td>\n",
       "      <td>0</td>\n",
       "      <td>0</td>\n",
       "      <td>0</td>\n",
       "      <td>0</td>\n",
       "      <td>-1</td>\n",
       "      <td>-1</td>\n",
       "      <td>0</td>\n",
       "      <td>0.0</td>\n",
       "    </tr>\n",
       "  </tbody>\n",
       "</table>\n",
       "<p>2 rows × 78 columns</p>\n",
       "</div>"
      ],
      "text/plain": [
       "   ID       area  _hid  _pid  hhnssec  \\\n",
       "2   2  E02004129    46  1408        5   \n",
       "3   3  E02004129    46  4108        5   \n",
       "\n",
       "                                      hpnssec5  soc4  sic  sex  hhref  ...  \\\n",
       "2  Lower supervisory and technical occupations    92   13    1      1  ...   \n",
       "3  Lower supervisory and technical occupations    22   58    0      0  ...   \n",
       "\n",
       "   Work_Flows  Work_Duration  disease_status current_risk MSOA_Cases  \\\n",
       "2       [1.0]       0.000000               0            0          0   \n",
       "3       [1.0]       0.236111               0            0          0   \n",
       "\n",
       "  HID_Cases presymp_days symp_days disease_status000 disease_status001  \n",
       "2         0           -1        -1                 0               0.0  \n",
       "3         0           -1        -1                 0               0.0  \n",
       "\n",
       "[2 rows x 78 columns]"
      ]
     },
     "execution_count": 78,
     "metadata": {},
     "output_type": "execute_result"
    }
   ],
   "source": [
    "home_id = home.ID.values[0]\n",
    "individuals.loc[individuals.Home_Venues.apply(lambda x: home_id in x ) ]"
   ]
  }
 ],
 "metadata": {
  "kernelspec": {
   "display_name": "Python 3",
   "language": "python",
   "name": "python3"
  },
  "language_info": {
   "codemirror_mode": {
    "name": "ipython",
    "version": 3
   },
   "file_extension": ".py",
   "mimetype": "text/x-python",
   "name": "python",
   "nbconvert_exporter": "python",
   "pygments_lexer": "ipython3",
   "version": "3.7.7"
  }
 },
 "nbformat": 4,
 "nbformat_minor": 4
}
