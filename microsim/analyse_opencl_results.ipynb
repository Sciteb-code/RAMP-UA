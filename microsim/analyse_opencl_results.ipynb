{
 "cells": [
  {
   "cell_type": "markdown",
   "metadata": {},
   "source": [
    "Import opencl modules"
   ]
  },
  {
   "cell_type": "code",
   "execution_count": 1,
   "metadata": {},
   "outputs": [],
   "source": [
    "from microsim.opencl.ramp.run import run_headless\n",
    "from microsim.opencl.ramp.snapshot_convertor import SnapshotConvertor\n",
    "from microsim.opencl.ramp.snapshot import Snapshot\n",
    "from microsim.opencl.ramp.params import Params\n",
    "from microsim.opencl.ramp.simulator import Simulator"
   ]
  },
  {
   "cell_type": "markdown",
   "metadata": {},
   "source": [
    "Load starting snapshot"
   ]
  },
  {
   "cell_type": "code",
   "execution_count": 2,
   "metadata": {},
   "outputs": [],
   "source": [
    "snapshot_filepath = \"./opencl/snapshots/cache.npz\"\n",
    "snapshot = Snapshot.load_full_snapshot(path=snapshot_filepath)"
   ]
  },
  {
   "cell_type": "markdown",
   "metadata": {},
   "source": [
    "Setup params"
   ]
  },
  {
   "cell_type": "code",
   "execution_count": 3,
   "metadata": {},
   "outputs": [],
   "source": [
    "params = Params(\n",
    "        retail_multiplier=1.0,\n",
    "        primary_school_multiplier=1.0,\n",
    "        secondary_school_multiplier=1.0,\n",
    "        home_multiplier=1.0,\n",
    "        work_multiplier=1.0,\n",
    "        current_risk_beta=0.0165\n",
    "    )\n",
    "\n",
    "snapshot.params = params"
   ]
  },
  {
   "cell_type": "markdown",
   "metadata": {},
   "source": [
    "Run OpenCL simulation for multiple repetitions"
   ]
  },
  {
   "cell_type": "code",
   "execution_count": 5,
   "metadata": {},
   "outputs": [
    {
     "name": "stderr",
     "output_type": "stream",
     "text": [
      "Running simulation: 100%|██████████| 100/100 [00:06<00:00, 14.90it/s]\n",
      "Running simulation: 100%|██████████| 100/100 [00:06<00:00, 14.42it/s]\n",
      "Running simulation: 100%|██████████| 100/100 [00:07<00:00, 14.01it/s]\n",
      "Running simulation: 100%|██████████| 100/100 [00:07<00:00, 14.02it/s]\n",
      "Running simulation: 100%|██████████| 100/100 [00:07<00:00, 13.28it/s]\n"
     ]
    }
   ],
   "source": [
    "iterations = 100\n",
    "repetitions = 5\n",
    "summaries = []\n",
    "num_seed_days = 5\n",
    "use_gpu=False\n",
    "\n",
    "for i in range(repetitions):\n",
    "    # set the random seed of the model for each repetition, otherwise it is completely deterministic\n",
    "    snapshot.seed_prngs(i)\n",
    "\n",
    "    # seed initial infections using GAM initial cases\n",
    "    snapshot.seed_initial_infections(num_seed_days=num_seed_days, data_dir=\"./opencl/data/\")\n",
    "\n",
    "    # Create a simulator and upload the snapshot data to the OpenCL device\n",
    "    simulator = Simulator(snapshot, kernel_dir=\"./opencl/ramp/kernels/\", gpu=use_gpu)\n",
    "    simulator.upload_all(snapshot.buffers)\n",
    "    \n",
    "    summary, final_state = run_headless(simulator, snapshot, iterations, quiet=True)\n",
    "    summaries.append(summary)"
   ]
  },
  {
   "cell_type": "markdown",
   "metadata": {},
   "source": [
    "Plot output data"
   ]
  },
  {
   "cell_type": "code",
   "execution_count": null,
   "metadata": {},
   "outputs": [],
   "source": [
    "summary = summaries[0]\n",
    "\n"
   ]
  }
 ],
 "metadata": {
  "kernelspec": {
   "display_name": "ramp-ua",
   "language": "python",
   "name": "ramp-ua"
  },
  "language_info": {
   "codemirror_mode": {
    "name": "ipython",
    "version": 3
   },
   "file_extension": ".py",
   "mimetype": "text/x-python",
   "name": "python",
   "nbconvert_exporter": "python",
   "pygments_lexer": "ipython3",
   "version": "3.7.8"
  }
 },
 "nbformat": 4,
 "nbformat_minor": 4
}
