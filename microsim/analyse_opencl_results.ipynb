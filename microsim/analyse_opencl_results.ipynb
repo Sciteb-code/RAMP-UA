{
 "cells": [
  {
   "cell_type": "markdown",
   "metadata": {},
   "source": [
    "Import opencl modules"
   ]
  },
  {
   "cell_type": "code",
   "execution_count": 1,
   "metadata": {},
   "outputs": [],
   "source": [
    "from microsim.opencl.ramp.run import run_headless\n",
    "from microsim.opencl.ramp.snapshot_convertor import SnapshotConvertor\n",
    "from microsim.opencl.ramp.snapshot import Snapshot\n",
    "from microsim.opencl.ramp.params import Params\n",
    "from microsim.opencl.ramp.simulator import Simulator\n",
    "import os"
   ]
  },
  {
   "cell_type": "markdown",
   "metadata": {},
   "source": [
    "Load starting snapshot"
   ]
  },
  {
   "cell_type": "code",
   "execution_count": 2,
   "metadata": {},
   "outputs": [],
   "source": [
    "opencl_dir = \"./opencl\"\n",
    "\n",
    "snapshot_filepath = os.path.join(opencl_dir, \"snapshots\", \"cache.npz\")\n",
    "snapshot = Snapshot.load_full_snapshot(path=snapshot_filepath)"
   ]
  },
  {
   "cell_type": "markdown",
   "metadata": {},
   "source": [
    "Setup params"
   ]
  },
  {
   "cell_type": "code",
   "execution_count": 3,
   "metadata": {},
   "outputs": [],
   "source": [
    "params = Params(\n",
    "        retail_multiplier=1.0,\n",
    "        primary_school_multiplier=1.0,\n",
    "        secondary_school_multiplier=1.0,\n",
    "        home_multiplier=1.0,\n",
    "        work_multiplier=1.0,\n",
    "        current_risk_beta=0.0165\n",
    "    )\n",
    "\n",
    "snapshot.params = params"
   ]
  },
  {
   "cell_type": "markdown",
   "metadata": {},
   "source": [
    "Run OpenCL simulation for multiple repetitions"
   ]
  },
  {
   "cell_type": "code",
   "execution_count": 4,
   "metadata": {},
   "outputs": [
    {
     "ename": "FileNotFoundError",
     "evalue": "[Errno 2] No such file or directory: './opencl/ramp/kernelsramp_ua.cl'",
     "output_type": "error",
     "traceback": [
      "\u001b[0;31m---------------------------------------------------------------------------\u001b[0m",
      "\u001b[0;31mFileNotFoundError\u001b[0m                         Traceback (most recent call last)",
      "\u001b[0;32m<ipython-input-4-34a402fcec11>\u001b[0m in \u001b[0;36m<module>\u001b[0;34m\u001b[0m\n\u001b[1;32m     15\u001b[0m     \u001b[0;31m# Create a simulator and upload the snapshot data to the OpenCL device\u001b[0m\u001b[0;34m\u001b[0m\u001b[0;34m\u001b[0m\u001b[0;34m\u001b[0m\u001b[0m\n\u001b[1;32m     16\u001b[0m     \u001b[0mkernel_dir\u001b[0m \u001b[0;34m=\u001b[0m \u001b[0mos\u001b[0m\u001b[0;34m.\u001b[0m\u001b[0mpath\u001b[0m\u001b[0;34m.\u001b[0m\u001b[0mjoin\u001b[0m\u001b[0;34m(\u001b[0m\u001b[0mopencl_dir\u001b[0m\u001b[0;34m,\u001b[0m \u001b[0;34m\"ramp\"\u001b[0m\u001b[0;34m,\u001b[0m \u001b[0;34m\"kernels\"\u001b[0m\u001b[0;34m)\u001b[0m\u001b[0;34m\u001b[0m\u001b[0;34m\u001b[0m\u001b[0m\n\u001b[0;32m---> 17\u001b[0;31m     \u001b[0msimulator\u001b[0m \u001b[0;34m=\u001b[0m \u001b[0mSimulator\u001b[0m\u001b[0;34m(\u001b[0m\u001b[0msnapshot\u001b[0m\u001b[0;34m,\u001b[0m \u001b[0mkernel_dir\u001b[0m\u001b[0;34m=\u001b[0m\u001b[0mkernel_dir\u001b[0m\u001b[0;34m,\u001b[0m \u001b[0mgpu\u001b[0m\u001b[0;34m=\u001b[0m\u001b[0muse_gpu\u001b[0m\u001b[0;34m)\u001b[0m\u001b[0;34m\u001b[0m\u001b[0;34m\u001b[0m\u001b[0m\n\u001b[0m\u001b[1;32m     18\u001b[0m     \u001b[0msimulator\u001b[0m\u001b[0;34m.\u001b[0m\u001b[0mupload_all\u001b[0m\u001b[0;34m(\u001b[0m\u001b[0msnapshot\u001b[0m\u001b[0;34m.\u001b[0m\u001b[0mbuffers\u001b[0m\u001b[0;34m)\u001b[0m\u001b[0;34m\u001b[0m\u001b[0;34m\u001b[0m\u001b[0m\n\u001b[1;32m     19\u001b[0m \u001b[0;34m\u001b[0m\u001b[0m\n",
      "\u001b[0;32m~/RAMP-UA/microsim/opencl/ramp/simulator.py\u001b[0m in \u001b[0;36m__init__\u001b[0;34m(self, snapshot, kernel_dir, gpu)\u001b[0m\n\u001b[1;32m     60\u001b[0m \u001b[0;34m\u001b[0m\u001b[0m\n\u001b[1;32m     61\u001b[0m         \u001b[0;31m# Load the OpenCL kernel programs\u001b[0m\u001b[0;34m\u001b[0m\u001b[0;34m\u001b[0m\u001b[0;34m\u001b[0m\u001b[0m\n\u001b[0;32m---> 62\u001b[0;31m         \u001b[0;32mwith\u001b[0m \u001b[0mopen\u001b[0m\u001b[0;34m(\u001b[0m\u001b[0mkernel_dir\u001b[0m \u001b[0;34m+\u001b[0m \u001b[0;34m\"ramp_ua.cl\"\u001b[0m\u001b[0;34m)\u001b[0m \u001b[0;32mas\u001b[0m \u001b[0mf\u001b[0m\u001b[0;34m:\u001b[0m\u001b[0;34m\u001b[0m\u001b[0;34m\u001b[0m\u001b[0m\n\u001b[0m\u001b[1;32m     63\u001b[0m             \u001b[0mprogram\u001b[0m \u001b[0;34m=\u001b[0m \u001b[0mcl\u001b[0m\u001b[0;34m.\u001b[0m\u001b[0mProgram\u001b[0m\u001b[0;34m(\u001b[0m\u001b[0mctx\u001b[0m\u001b[0;34m,\u001b[0m \u001b[0mf\u001b[0m\u001b[0;34m.\u001b[0m\u001b[0mread\u001b[0m\u001b[0;34m(\u001b[0m\u001b[0;34m)\u001b[0m\u001b[0;34m)\u001b[0m\u001b[0;34m\u001b[0m\u001b[0;34m\u001b[0m\u001b[0m\n\u001b[1;32m     64\u001b[0m             \u001b[0mprogram\u001b[0m\u001b[0;34m.\u001b[0m\u001b[0mbuild\u001b[0m\u001b[0;34m(\u001b[0m\u001b[0moptions\u001b[0m\u001b[0;34m=\u001b[0m\u001b[0;34m[\u001b[0m\u001b[0;34mf\"-I {kernel_dir}\"\u001b[0m\u001b[0;34m]\u001b[0m\u001b[0;34m)\u001b[0m\u001b[0;34m\u001b[0m\u001b[0;34m\u001b[0m\u001b[0m\n",
      "\u001b[0;31mFileNotFoundError\u001b[0m: [Errno 2] No such file or directory: './opencl/ramp/kernelsramp_ua.cl'"
     ]
    }
   ],
   "source": [
    "iterations = 100\n",
    "repetitions = 5\n",
    "summaries = []\n",
    "num_seed_days = 5\n",
    "use_gpu=False\n",
    "\n",
    "for i in range(repetitions):\n",
    "    # set the random seed of the model for each repetition, otherwise it is completely deterministic\n",
    "    snapshot.seed_prngs(i)\n",
    "\n",
    "    # seed initial infections using GAM initial cases\n",
    "    data_dir = os.path.join(opencl_dir, \"data\")\n",
    "    snapshot.seed_initial_infections(num_seed_days=num_seed_days, data_dir=data_dir)\n",
    "\n",
    "    # Create a simulator and upload the snapshot data to the OpenCL device\n",
    "    kernel_dir = os.path.join(opencl_dir, \"ramp\", \"kernels\")\n",
    "    simulator = Simulator(snapshot, kernel_dir=kernel_dir, gpu=use_gpu)\n",
    "    simulator.upload_all(snapshot.buffers)\n",
    "    \n",
    "    summary, final_state = run_headless(simulator, snapshot, iterations, quiet=True)\n",
    "    summaries.append(summary)"
   ]
  },
  {
   "cell_type": "markdown",
   "metadata": {},
   "source": [
    "Plot output summary data"
   ]
  },
  {
   "cell_type": "code",
   "execution_count": null,
   "metadata": {},
   "outputs": [],
   "source": [
    "import matplotlib.pyplot as plt\n",
    "from microsim.opencl.ramp.disease_statuses import DiseaseStatus\n",
    "\n",
    "\n",
    "def plot_summary(summary):\n",
    "    x = range(iterations)\n",
    "    \n",
    "    for disease_status in DiseaseStatus:\n",
    "        plt.plot(x, summary.total_counts[disease_status.value], label=disease_status.name)\n",
    "        \n",
    "    plt.show()\n",
    "    "
   ]
  },
  {
   "cell_type": "code",
   "execution_count": null,
   "metadata": {},
   "outputs": [],
   "source": [
    "for summary in summaries:\n",
    "    plot_summary(summaries)\n"
   ]
  }
 ],
 "metadata": {
  "kernelspec": {
   "display_name": "ramp-ua",
   "language": "python",
   "name": "ramp-ua"
  },
  "language_info": {
   "codemirror_mode": {
    "name": "ipython",
    "version": 3
   },
   "file_extension": ".py",
   "mimetype": "text/x-python",
   "name": "python",
   "nbconvert_exporter": "python",
   "pygments_lexer": "ipython3",
   "version": "3.7.8"
  }
 },
 "nbformat": 4,
 "nbformat_minor": 4
}
